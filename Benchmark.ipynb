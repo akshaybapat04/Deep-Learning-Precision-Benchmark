{
 "cells": [
  {
   "cell_type": "code",
   "execution_count": 4,
   "metadata": {},
   "outputs": [
    {
     "name": "stderr",
     "output_type": "stream",
     "text": [
      "E\n",
      "======================================================================\n",
      "ERROR: C:\\Users\\aksha_o463x8r\\AppData\\Roaming\\jupyter\\runtime\\kernel-147f9a43-b910-43b8-9a05-8e7f08acaafc (unittest.loader._FailedTest)\n",
      "----------------------------------------------------------------------\n",
      "AttributeError: module '__main__' has no attribute 'C:\\Users\\aksha_o463x8r\\AppData\\Roaming\\jupyter\\runtime\\kernel-147f9a43-b910-43b8-9a05-8e7f08acaafc'\n",
      "\n",
      "----------------------------------------------------------------------\n",
      "Ran 1 test in 0.002s\n",
      "\n",
      "FAILED (errors=1)\n"
     ]
    },
    {
     "ename": "SystemExit",
     "evalue": "True",
     "output_type": "error",
     "traceback": [
      "An exception has occurred, use %tb to see the full traceback.\n",
      "\u001b[1;31mSystemExit\u001b[0m\u001b[1;31m:\u001b[0m True\n"
     ]
    },
    {
     "name": "stderr",
     "output_type": "stream",
     "text": [
      "C:\\ProgramData\\Anaconda3\\envs\\tf-gpu\\lib\\site-packages\\IPython\\core\\interactiveshell.py:2870: UserWarning: To exit: use 'exit', 'quit', or Ctrl-D.\n",
      "  warn(\"To exit: use 'exit', 'quit', or Ctrl-D.\", stacklevel=1)\n"
     ]
    }
   ],
   "source": [
    "from __future__ import absolute_import\n",
    "from __future__ import division\n",
    "from __future__ import print_function\n",
    "\n",
    "import time\n",
    "\n",
    "import tensorflow as tf\n",
    "\n",
    "\n",
    "# Define a class that extends from tf.test.Benchmark.\n",
    "class SampleBenchmark(tf.test.Benchmark):\n",
    "    # Note: benchmark method name must start with `benchmark`.\n",
    "    def benchmarkSum(self):\n",
    "with tf.Session() as sess:\n",
    "x = tf.constant(10)\n",
    "y = tf.constant(5)\n",
    "result = tf.add(x, y)\n",
    "\n",
    "iters = 100\n",
    "start_time = time.time()\n",
    "for _ in range(iters):\n",
    "sess.run(result)\n",
    "total_wall_time = time.time() - start_time\n",
    "\n",
    "# Call report_benchmark to report a metric value.\n",
    "self.report_benchmark(\n",
    "name=\"sum_wall_time\",\n",
    "# This value should always be per iteration.\n",
    "wall_time=total_wall_time/iters,\n",
    "iters=iters)\n",
    "\n",
    "\n",
    "\n",
    "tf.test.main()"
   ]
  }
 ],
 "metadata": {
  "kernelspec": {
   "display_name": "Python 3",
   "language": "python",
   "name": "python3"
  },
  "language_info": {
   "codemirror_mode": {
    "name": "ipython",
    "version": 3
   },
   "file_extension": ".py",
   "mimetype": "text/x-python",
   "name": "python",
   "nbconvert_exporter": "python",
   "pygments_lexer": "ipython3",
   "version": "3.6.3"
  }
 },
 "nbformat": 4,
 "nbformat_minor": 2
}
